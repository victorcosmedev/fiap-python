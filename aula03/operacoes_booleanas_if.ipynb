{
 "cells": [
  {
   "cell_type": "code",
   "execution_count": 1,
   "id": "2a1754b3-0a8a-4a06-acab-0e4f10de8be4",
   "metadata": {},
   "outputs": [
    {
     "data": {
      "text/plain": [
       "(True, False)"
      ]
     },
     "execution_count": 1,
     "metadata": {},
     "output_type": "execute_result"
    }
   ],
   "source": [
    "True, False # resultados possíveis de uma operação booleana"
   ]
  },
  {
   "cell_type": "code",
   "execution_count": 3,
   "id": "99b4c87d-0f76-46dc-86ff-0131735bf3de",
   "metadata": {},
   "outputs": [
    {
     "data": {
      "text/plain": [
       "(True, False)"
      ]
     },
     "execution_count": 3,
     "metadata": {},
     "output_type": "execute_result"
    }
   ],
   "source": [
    "1 == 1, 1 == 2"
   ]
  },
  {
   "cell_type": "code",
   "execution_count": 5,
   "id": "c2c5e698-4878-4436-88e6-759778a35aef",
   "metadata": {},
   "outputs": [
    {
     "data": {
      "text/plain": [
       "(True, False)"
      ]
     },
     "execution_count": 5,
     "metadata": {},
     "output_type": "execute_result"
    }
   ],
   "source": [
    "1 != 2, 1 != 1 # diferente"
   ]
  },
  {
   "cell_type": "code",
   "execution_count": 7,
   "id": "be7081de-3429-484e-a553-fe1ad20d706f",
   "metadata": {},
   "outputs": [
    {
     "data": {
      "text/plain": [
       "False"
      ]
     },
     "execution_count": 7,
     "metadata": {},
     "output_type": "execute_result"
    }
   ],
   "source": [
    "'abc' == 'cba'"
   ]
  },
  {
   "cell_type": "code",
   "execution_count": 9,
   "id": "76b67393-c2c3-4de7-8608-acc9734900ba",
   "metadata": {},
   "outputs": [
    {
     "data": {
      "text/plain": [
       "False"
      ]
     },
     "execution_count": 9,
     "metadata": {},
     "output_type": "execute_result"
    }
   ],
   "source": [
    "'a' == 'A' # retorna false pois os caracteres são diferentes na tabela ASCII - Case sensitive"
   ]
  },
  {
   "cell_type": "code",
   "execution_count": 19,
   "id": "80af1f83-ecb4-4396-84cc-1831200fe27b",
   "metadata": {},
   "outputs": [
    {
     "data": {
      "text/plain": [
       "(True, False, True, True, True)"
      ]
     },
     "execution_count": 19,
     "metadata": {},
     "output_type": "execute_result"
    }
   ],
   "source": [
    "10 > 9, 10 > 10, 10 >= 10, 10 >= 1, 1 <= 10"
   ]
  },
  {
   "cell_type": "code",
   "execution_count": 15,
   "id": "7634806b-25c0-4099-8ae8-7e57558d4a7a",
   "metadata": {},
   "outputs": [
    {
     "data": {
      "text/plain": [
       "False"
      ]
     },
     "execution_count": 15,
     "metadata": {},
     "output_type": "execute_result"
    }
   ],
   "source": [
    "'a' >= 'b'"
   ]
  },
  {
   "cell_type": "code",
   "execution_count": 17,
   "id": "3e60bed9-2766-465b-956b-a49f2f8aea26",
   "metadata": {},
   "outputs": [
    {
     "data": {
      "text/plain": [
       "True"
      ]
     },
     "execution_count": 17,
     "metadata": {},
     "output_type": "execute_result"
    }
   ],
   "source": [
    "'abe' > 'abd' # a é igual à a, b é igual a b, e é maior que d"
   ]
  },
  {
   "cell_type": "code",
   "execution_count": 20,
   "id": "d1dfb041-db98-4114-86e7-440c33b3476c",
   "metadata": {},
   "outputs": [
    {
     "data": {
      "text/plain": [
       "(False, True)"
      ]
     },
     "execution_count": 20,
     "metadata": {},
     "output_type": "execute_result"
    }
   ],
   "source": [
    "'a' > 'b', 'abe' > 'abd'"
   ]
  },
  {
   "cell_type": "code",
   "execution_count": 22,
   "id": "a3478887-9c27-4862-b2cd-84737fb42e41",
   "metadata": {},
   "outputs": [
    {
     "data": {
      "text/plain": [
       "True"
      ]
     },
     "execution_count": 22,
     "metadata": {},
     "output_type": "execute_result"
    }
   ],
   "source": [
    "not 10 == 1 # not inverte o resultado. o que era falso se torna True"
   ]
  },
  {
   "cell_type": "code",
   "execution_count": 23,
   "id": "45b1b876-ecbd-4ed2-9e16-1df5f0bfed4c",
   "metadata": {},
   "outputs": [],
   "source": [
    "# or, and e xor (^)"
   ]
  },
  {
   "cell_type": "code",
   "execution_count": 24,
   "id": "57b69e75-4b73-4b7c-9739-0e25d3c010c5",
   "metadata": {},
   "outputs": [
    {
     "data": {
      "text/plain": [
       "(False, True)"
      ]
     },
     "execution_count": 24,
     "metadata": {},
     "output_type": "execute_result"
    }
   ],
   "source": [
    "10 == 5, 10 > 2"
   ]
  },
  {
   "cell_type": "code",
   "execution_count": 27,
   "id": "792ad06d-bb91-4642-bbdf-f330fde3d1c9",
   "metadata": {},
   "outputs": [
    {
     "data": {
      "text/plain": [
       "(True, False)"
      ]
     },
     "execution_count": 27,
     "metadata": {},
     "output_type": "execute_result"
    }
   ],
   "source": [
    "10 == 5 or 10 > 2, 10 == 5 or 10 < 2 # or = pelo menos uma das expressões precisa ser verdadeira"
   ]
  },
  {
   "cell_type": "code",
   "execution_count": 31,
   "id": "1b5e271b-2baf-4ec8-8c5c-83824381cef0",
   "metadata": {},
   "outputs": [
    {
     "data": {
      "text/plain": [
       "(False, True)"
      ]
     },
     "execution_count": 31,
     "metadata": {},
     "output_type": "execute_result"
    }
   ],
   "source": [
    "10 == 5 and 10 > 2 and 'a' == 'A', 10 == 10 and 10 > 2 and 'a' == 'a'"
   ]
  },
  {
   "cell_type": "code",
   "execution_count": 33,
   "id": "90525a13-ffbd-4a70-a9e0-fa3d1458f913",
   "metadata": {},
   "outputs": [
    {
     "data": {
      "text/plain": [
       "False"
      ]
     },
     "execution_count": 33,
     "metadata": {},
     "output_type": "execute_result"
    }
   ],
   "source": [
    "not 10 > 2 and 'a' == 'a'"
   ]
  },
  {
   "cell_type": "code",
   "execution_count": 36,
   "id": "d4a93e98-b807-491a-89b1-996e82af9941",
   "metadata": {},
   "outputs": [
    {
     "data": {
      "text/plain": [
       "True"
      ]
     },
     "execution_count": 36,
     "metadata": {},
     "output_type": "execute_result"
    }
   ],
   "source": [
    "'100' != '10'"
   ]
  },
  {
   "cell_type": "code",
   "execution_count": 38,
   "id": "3db2ffc6-82cd-4337-9b8d-50f9d0b7a64a",
   "metadata": {},
   "outputs": [
    {
     "data": {
      "text/plain": [
       "True"
      ]
     },
     "execution_count": 38,
     "metadata": {},
     "output_type": "execute_result"
    }
   ],
   "source": [
    "not 10 > 2 and 'a' == 'A' or '100' != '10' # not só se aplica a 10 > 2"
   ]
  },
  {
   "cell_type": "code",
   "execution_count": 39,
   "id": "1aa6edc2-2572-4dad-a9b8-8ae3a6f8894d",
   "metadata": {},
   "outputs": [
    {
     "data": {
      "text/plain": [
       "False"
      ]
     },
     "execution_count": 39,
     "metadata": {},
     "output_type": "execute_result"
    }
   ],
   "source": [
    "not (10 > 2 and 'a' == 'A' or '100' != '10') # not se aplica à expressão inteira"
   ]
  },
  {
   "cell_type": "code",
   "execution_count": 43,
   "id": "e44c10e3-de1f-4c1e-b409-fb9a0fd3d575",
   "metadata": {},
   "outputs": [
    {
     "data": {
      "text/plain": [
       "False"
      ]
     },
     "execution_count": 43,
     "metadata": {},
     "output_type": "execute_result"
    }
   ],
   "source": [
    "not '100' != '10'"
   ]
  },
  {
   "cell_type": "code",
   "execution_count": 45,
   "id": "d7c937b8-77dc-4d44-82f5-7935a1ad4393",
   "metadata": {},
   "outputs": [
    {
     "data": {
      "text/plain": [
       "True"
      ]
     },
     "execution_count": 45,
     "metadata": {},
     "output_type": "execute_result"
    }
   ],
   "source": [
    "not (10 > 2 and ('a' == 'A' or not '100' != '10'))"
   ]
  },
  {
   "cell_type": "code",
   "execution_count": 49,
   "id": "d5f01a34-ca85-43ff-a214-1669689c6ae0",
   "metadata": {},
   "outputs": [
    {
     "data": {
      "text/plain": [
       "(False, True, True)"
      ]
     },
     "execution_count": 49,
     "metadata": {},
     "output_type": "execute_result"
    }
   ],
   "source": [
    "1 == 2 or 2 == 1, 1 == 1 or 2 == 2, 1 == 1 or 2 == 2"
   ]
  },
  {
   "cell_type": "code",
   "execution_count": 51,
   "id": "ba6baec9-85a9-4ccb-a624-9d297fb604fc",
   "metadata": {},
   "outputs": [
    {
     "data": {
      "text/plain": [
       "(False, True, False)"
      ]
     },
     "execution_count": 51,
     "metadata": {},
     "output_type": "execute_result"
    }
   ],
   "source": [
    "(1 == 2) ^ (2 == 1), (1 == 1) ^ (2 == 1), (1 == 1) ^ (2 == 2)"
   ]
  },
  {
   "cell_type": "code",
   "execution_count": 52,
   "id": "44425623-7c63-4321-862a-e51c613d4a11",
   "metadata": {},
   "outputs": [],
   "source": [
    "# (1 == 2 and 2 == 2) or (1 == 1 and 2 == 2)"
   ]
  },
  {
   "cell_type": "code",
   "execution_count": 54,
   "id": "8cc1eed1-ba6c-4151-a849-84271a53d7d6",
   "metadata": {},
   "outputs": [
    {
     "name": "stdout",
     "output_type": "stream",
     "text": [
      "10 maior que 1!\n"
     ]
    }
   ],
   "source": [
    "if 10 > 1:\n",
    "    print('10 maior que 1!')"
   ]
  },
  {
   "cell_type": "code",
   "execution_count": 66,
   "id": "80002a6e-b4a7-44a5-8cc8-4dff4b8f540e",
   "metadata": {},
   "outputs": [
    {
     "name": "stdout",
     "output_type": "stream",
     "text": [
      "fora do if\n"
     ]
    }
   ],
   "source": [
    "x = 100\n",
    "if x > 100: # tudo que está tabulado (tab) está dentro do contexto do if\n",
    "    print(f'{x} maior que 100!')\n",
    "    print('dentro do if!')\n",
    "    # necessário haver um enter após o final do contexto de um if para que se entenda que a instrução está fora do if\n",
    "\n",
    "print('fora do if')"
   ]
  },
  {
   "cell_type": "code",
   "execution_count": 74,
   "id": "651b8281-cafc-423c-81aa-831939a08939",
   "metadata": {},
   "outputs": [
    {
     "name": "stdout",
     "output_type": "stream",
     "text": [
      "501 maior que 100!\n",
      "501 maior que 200!\n",
      "msg final!\n"
     ]
    }
   ],
   "source": [
    "valor = 501\n",
    "if valor > 100: # tudo que está tabulado (tab) está dentro do contexto do if\n",
    "    print(f'{valor} maior que 100!')\n",
    "    \n",
    "    if valor > 200:\n",
    "        print(f'{valor} maior que 200!')\n",
    "\n",
    "print('msg final!')"
   ]
  },
  {
   "cell_type": "code",
   "execution_count": 76,
   "id": "19836901-8ece-41c0-9ddf-3bc4e85e47df",
   "metadata": {},
   "outputs": [
    {
     "name": "stdout",
     "output_type": "stream",
     "text": [
      "100 não é maior que 100!\n"
     ]
    }
   ],
   "source": [
    "valor = 100\n",
    "\n",
    "if valor > 100:\n",
    "    print(f'{valor} maior que 100!')\n",
    "else:\n",
    "    print(f'{valor} não é maior que 100!')"
   ]
  },
  {
   "cell_type": "code",
   "execution_count": 78,
   "id": "7a6708f6-fc1a-45b4-bcd1-d29beaac43fa",
   "metadata": {},
   "outputs": [
    {
     "name": "stdout",
     "output_type": "stream",
     "text": [
      "1000 maior que 100!\n"
     ]
    }
   ],
   "source": [
    "valor = 1000\n",
    "\n",
    "if valor > 100:\n",
    "    print(f'{valor} maior que 100!')\n",
    "    \n",
    "elif valor > 50:\n",
    "    print(f'{valor} maior que 50!')\n",
    "    \n",
    "else:\n",
    "    print(f'Certamente {valor} é igual ou menor que 50!')"
   ]
  },
  {
   "cell_type": "code",
   "execution_count": 81,
   "id": "6436734c-9126-45d8-bf00-bd09a8838a62",
   "metadata": {},
   "outputs": [
    {
     "name": "stdout",
     "output_type": "stream",
     "text": [
      "Reprovado\n"
     ]
    }
   ],
   "source": [
    "media = 2.5\n",
    "exame = True\n",
    "\n",
    "nao_aprovado = media < 6 and media >= 3\n",
    "\n",
    "if media >= 6:\n",
    "    print('Passou!')\n",
    "    \n",
    "elif nao_aprovado and exame == True:\n",
    "    print('Exame')\n",
    "\n",
    "elif nao_aprovado and exame == False:\n",
    "    print('Recuperação')\n",
    "    \n",
    "else:\n",
    "    print('Reprovado')"
   ]
  },
  {
   "cell_type": "code",
   "execution_count": 86,
   "id": "9a72e0ee-1f82-444a-9b03-7b37a35832b4",
   "metadata": {},
   "outputs": [],
   "source": [
    "media_1 = 5\n",
    "\n",
    "# if comum\n",
    "if media_1 >= 6:\n",
    "    status_1 = 'Aprovado'\n",
    "else:\n",
    "    status_1 = 'Reprovado'"
   ]
  },
  {
   "cell_type": "code",
   "execution_count": 92,
   "id": "ecebbdf8-a56f-46bc-a71d-59b2d038cdc0",
   "metadata": {},
   "outputs": [],
   "source": [
    "media_2 = 5\n",
    "\n",
    "# if ternário -> if de uma linha só\n",
    "# Status será igual a aprovado SE a média for maior ou igual a 6, \n",
    "# do contrário estará reprovado.\n",
    "status_2 = 'Aprovado' if media >= 6 else 'Reprovado' "
   ]
  },
  {
   "cell_type": "code",
   "execution_count": 87,
   "id": "41948339-eaf5-41a9-8ec9-f811a94c1878",
   "metadata": {},
   "outputs": [
    {
     "data": {
      "text/plain": [
       "('Reprovado', 'Reprovado')"
      ]
     },
     "execution_count": 87,
     "metadata": {},
     "output_type": "execute_result"
    }
   ],
   "source": [
    "status_1, status_2"
   ]
  },
  {
   "cell_type": "code",
   "execution_count": 91,
   "id": "83413b88-166d-4c91-8ad9-ec5777db0aaa",
   "metadata": {},
   "outputs": [],
   "source": [
    "media_3 = 5\n",
    "exame_3 = True\n",
    "\n",
    "criterio = media_3 < 6 and media_3 >= 3 and exame_3 == True\n",
    "\n",
    "status_3 = 'Exame' if criterio else 'Reprovado'"
   ]
  },
  {
   "cell_type": "code",
   "execution_count": 90,
   "id": "ba6b6b52-c894-44ed-bef3-ab4ff6829cbe",
   "metadata": {},
   "outputs": [
    {
     "data": {
      "text/plain": [
       "'Exame'"
      ]
     },
     "execution_count": 90,
     "metadata": {},
     "output_type": "execute_result"
    }
   ],
   "source": [
    "status_3"
   ]
  },
  {
   "cell_type": "code",
   "execution_count": 93,
   "id": "668ecb4c-a6be-49b2-9b41-0082410c46f1",
   "metadata": {},
   "outputs": [
    {
     "name": "stdout",
     "output_type": "stream",
     "text": [
      "Exame\n"
     ]
    }
   ],
   "source": [
    "media = 5\n",
    "exame = True\n",
    "\n",
    "nao_aprovado = media < 6 and media >= 3\n",
    "\n",
    "if media >= 6:\n",
    "    print('Passou!')\n",
    "    \n",
    "elif media < 6 and media >= 3 and exame:\n",
    "    print('Exame')\n",
    "\n",
    "elif media < 6 and media >= 3 and not exame:\n",
    "    print('Recuperação')\n",
    "    \n",
    "else:\n",
    "    print('Reprovado')"
   ]
  }
 ],
 "metadata": {
  "kernelspec": {
   "display_name": "Python 3 (ipykernel)",
   "language": "python",
   "name": "python3"
  },
  "language_info": {
   "codemirror_mode": {
    "name": "ipython",
    "version": 3
   },
   "file_extension": ".py",
   "mimetype": "text/x-python",
   "name": "python",
   "nbconvert_exporter": "python",
   "pygments_lexer": "ipython3",
   "version": "3.11.4"
  }
 },
 "nbformat": 4,
 "nbformat_minor": 5
}
