{
 "cells": [
  {
   "cell_type": "code",
   "execution_count": 26,
   "id": "c3535b79",
   "metadata": {},
   "outputs": [],
   "source": [
    "nome = \"Antonio\"\n",
    "idade = 25\n",
    "peso = 75.5\n",
    "altura = 1.80\n",
    "usuario_python = True\n",
    "endereco = \"Avenida Paulista\"\n",
    "pcd = False\n",
    "data_de_nascimento = \"10/10/2000\""
   ]
  },
  {
   "cell_type": "code",
   "execution_count": 27,
   "id": "d654edad",
   "metadata": {},
   "outputs": [
    {
     "data": {
      "text/plain": [
       "(str, int, float, float, str, str, bool, int)"
      ]
     },
     "execution_count": 27,
     "metadata": {},
     "output_type": "execute_result"
    }
   ],
   "source": [
    "type(nome),type(idade),type(peso),type(altura),type(usuarioPython),type(endereco),type(pcd),type(idade)"
   ]
  },
  {
   "cell_type": "code",
   "execution_count": 20,
   "id": "60866d8f",
   "metadata": {},
   "outputs": [
    {
     "name": "stdout",
     "output_type": "stream",
     "text": [
      "Antonio\n",
      "25\n",
      "75\n",
      "1.8\n",
      "antonio_python\n",
      "Avenida Paulista\n",
      "False\n",
      "10/10/2000\n"
     ]
    }
   ],
   "source": [
    "print(nome)\n",
    "print(idade)\n",
    "print(peso)\n",
    "print(altura)\n",
    "print(usuario_python)\n",
    "print(endereco)\n",
    "print(pcd)\n",
    "print(data_de_nascimento)"
   ]
  }
 ],
 "metadata": {
  "kernelspec": {
   "display_name": "Python 3 (ipykernel)",
   "language": "python",
   "name": "python3"
  },
  "language_info": {
   "codemirror_mode": {
    "name": "ipython",
    "version": 3
   },
   "file_extension": ".py",
   "mimetype": "text/x-python",
   "name": "python",
   "nbconvert_exporter": "python",
   "pygments_lexer": "ipython3",
   "version": "3.11.4"
  }
 },
 "nbformat": 4,
 "nbformat_minor": 5
}
