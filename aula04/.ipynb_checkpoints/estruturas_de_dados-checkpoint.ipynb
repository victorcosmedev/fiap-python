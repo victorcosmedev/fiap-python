{
 "cells": [
  {
   "cell_type": "markdown",
   "id": "70820f22",
   "metadata": {},
   "source": [
    "# Estruturas de dados\n",
    "\n",
    "- Listas\n",
    "- Tuplas\n",
    "- Conjuntos\n",
    "- Dicionários"
   ]
  },
  {
   "cell_type": "code",
   "execution_count": 2,
   "id": "520b498e",
   "metadata": {},
   "outputs": [
    {
     "data": {
      "text/plain": [
       "(True, False)"
      ]
     },
     "execution_count": 2,
     "metadata": {},
     "output_type": "execute_result"
    }
   ],
   "source": [
    "'v' in 'victor', 'x' in 'victor'"
   ]
  },
  {
   "cell_type": "code",
   "execution_count": 3,
   "id": "c55ea295",
   "metadata": {},
   "outputs": [],
   "source": [
    "lista = [1, 2, 3]"
   ]
  },
  {
   "cell_type": "code",
   "execution_count": 4,
   "id": "cca4bd8b",
   "metadata": {},
   "outputs": [
    {
     "data": {
      "text/plain": [
       "list"
      ]
     },
     "execution_count": 4,
     "metadata": {},
     "output_type": "execute_result"
    }
   ],
   "source": [
    "type(lista)"
   ]
  },
  {
   "cell_type": "code",
   "execution_count": 10,
   "id": "af20e0e4",
   "metadata": {},
   "outputs": [],
   "source": [
    "lista_2 = [1, 'a', 3.14]"
   ]
  },
  {
   "cell_type": "code",
   "execution_count": 9,
   "id": "16eadbe0",
   "metadata": {},
   "outputs": [
    {
     "data": {
      "text/plain": [
       "'a'"
      ]
     },
     "execution_count": 9,
     "metadata": {},
     "output_type": "execute_result"
    }
   ],
   "source": [
    "lista_2[1]"
   ]
  },
  {
   "cell_type": "code",
   "execution_count": 13,
   "id": "96ff8e1b",
   "metadata": {},
   "outputs": [],
   "source": [
    "lista_2[-1] = 3"
   ]
  },
  {
   "cell_type": "code",
   "execution_count": 14,
   "id": "973725e4",
   "metadata": {},
   "outputs": [
    {
     "data": {
      "text/plain": [
       "[1, 'a', 3]"
      ]
     },
     "execution_count": 14,
     "metadata": {},
     "output_type": "execute_result"
    }
   ],
   "source": [
    "lista_2"
   ]
  },
  {
   "cell_type": "code",
   "execution_count": 16,
   "id": "1e187ca7",
   "metadata": {},
   "outputs": [],
   "source": [
    "lista_2.append(True) # adiciona um item na lista"
   ]
  },
  {
   "cell_type": "code",
   "execution_count": 17,
   "id": "32aaaeae",
   "metadata": {},
   "outputs": [
    {
     "data": {
      "text/plain": [
       "[1, 'a', 3, True, True]"
      ]
     },
     "execution_count": 17,
     "metadata": {},
     "output_type": "execute_result"
    }
   ],
   "source": [
    "lista_2"
   ]
  },
  {
   "cell_type": "code",
   "execution_count": 18,
   "id": "13ad950c",
   "metadata": {},
   "outputs": [
    {
     "data": {
      "text/plain": [
       "True"
      ]
     },
     "execution_count": 18,
     "metadata": {},
     "output_type": "execute_result"
    }
   ],
   "source": [
    "lista_2.pop() # remove por padrão o último item da lista e retorna o valor dele"
   ]
  },
  {
   "cell_type": "code",
   "execution_count": 19,
   "id": "c7391719",
   "metadata": {},
   "outputs": [
    {
     "data": {
      "text/plain": [
       "[1, 'a', 3, True]"
      ]
     },
     "execution_count": 19,
     "metadata": {},
     "output_type": "execute_result"
    }
   ],
   "source": [
    "lista_2"
   ]
  },
  {
   "cell_type": "code",
   "execution_count": 20,
   "id": "b46c3b5d",
   "metadata": {},
   "outputs": [
    {
     "data": {
      "text/plain": [
       "1"
      ]
     },
     "execution_count": 20,
     "metadata": {},
     "output_type": "execute_result"
    }
   ],
   "source": [
    "lista_2.pop(0) # remove o primeiro item da lista"
   ]
  },
  {
   "cell_type": "code",
   "execution_count": 21,
   "id": "600369bc",
   "metadata": {},
   "outputs": [
    {
     "data": {
      "text/plain": [
       "(['a', 3, True], 3)"
      ]
     },
     "execution_count": 21,
     "metadata": {},
     "output_type": "execute_result"
    }
   ],
   "source": [
    "lista_2, len(lista_2)"
   ]
  },
  {
   "cell_type": "code",
   "execution_count": 22,
   "id": "a3ed0991",
   "metadata": {},
   "outputs": [
    {
     "data": {
      "text/plain": [
       "True"
      ]
     },
     "execution_count": 22,
     "metadata": {},
     "output_type": "execute_result"
    }
   ],
   "source": [
    "bool([1, 2, 3]) # se tiver algum conteudo, será verdadeiro, se não, será falso"
   ]
  },
  {
   "cell_type": "code",
   "execution_count": 23,
   "id": "3e0bde61",
   "metadata": {},
   "outputs": [
    {
     "data": {
      "text/plain": [
       "False"
      ]
     },
     "execution_count": 23,
     "metadata": {},
     "output_type": "execute_result"
    }
   ],
   "source": [
    "bool([])"
   ]
  },
  {
   "cell_type": "code",
   "execution_count": 25,
   "id": "ccd9ca4a",
   "metadata": {},
   "outputs": [
    {
     "name": "stdout",
     "output_type": "stream",
     "text": [
      "Conteúdo\n"
     ]
    }
   ],
   "source": [
    "if [1,1,1,1,1,1,1]: # se tem conteúdo, ele printará\n",
    "    print(\"Conteúdo\")\n",
    "else:\n",
    "    print(\"Vazio\")"
   ]
  },
  {
   "cell_type": "code",
   "execution_count": null,
   "id": "96172e02",
   "metadata": {},
   "outputs": [],
   "source": [
    "tupla = (1, 'a', 3.14)"
   ]
  },
  {
   "cell_type": "code",
   "execution_count": 26,
   "id": "126a961e",
   "metadata": {},
   "outputs": [],
   "source": [
    "copo_1 = 'café'\n",
    "copo_2 = 'água'"
   ]
  },
  {
   "cell_type": "code",
   "execution_count": 29,
   "id": "1d389420",
   "metadata": {},
   "outputs": [],
   "source": [
    "copo_1, copo_2 = copo_2, copo_1"
   ]
  },
  {
   "cell_type": "code",
   "execution_count": 30,
   "id": "e8c627fc",
   "metadata": {},
   "outputs": [
    {
     "data": {
      "text/plain": [
       "('café', 'água')"
      ]
     },
     "execution_count": 30,
     "metadata": {},
     "output_type": "execute_result"
    }
   ],
   "source": [
    "copo_1, copo_2"
   ]
  },
  {
   "cell_type": "code",
   "execution_count": 35,
   "id": "3d8f5cf7",
   "metadata": {},
   "outputs": [],
   "source": [
    "conjunto = {1, 5, 4, 100, 8, 2, 8, 3, 1, 5}"
   ]
  },
  {
   "cell_type": "code",
   "execution_count": 36,
   "id": "d432f817",
   "metadata": {},
   "outputs": [
    {
     "data": {
      "text/plain": [
       "set"
      ]
     },
     "execution_count": 36,
     "metadata": {},
     "output_type": "execute_result"
    }
   ],
   "source": [
    "type(conjunto)"
   ]
  },
  {
   "cell_type": "code",
   "execution_count": 32,
   "id": "3a159253",
   "metadata": {},
   "outputs": [
    {
     "data": {
      "text/plain": [
       "{1, 2, 3, 4, 5, 8, 100}"
      ]
     },
     "execution_count": 32,
     "metadata": {},
     "output_type": "execute_result"
    }
   ],
   "source": [
    "conjunto"
   ]
  },
  {
   "cell_type": "code",
   "execution_count": 42,
   "id": "305b7749",
   "metadata": {},
   "outputs": [],
   "source": [
    "conjunto_2 = {2, 4, 3000, 555}"
   ]
  },
  {
   "cell_type": "code",
   "execution_count": 43,
   "id": "97345e3e",
   "metadata": {},
   "outputs": [
    {
     "data": {
      "text/plain": [
       "{2, 4}"
      ]
     },
     "execution_count": 43,
     "metadata": {},
     "output_type": "execute_result"
    }
   ],
   "source": [
    "conjunto.intersection(conjunto_2) # o que os sets tem em comum"
   ]
  },
  {
   "cell_type": "code",
   "execution_count": 44,
   "id": "4cda2725",
   "metadata": {},
   "outputs": [
    {
     "data": {
      "text/plain": [
       "{1, 3, 5, 8, 100}"
      ]
     },
     "execution_count": 44,
     "metadata": {},
     "output_type": "execute_result"
    }
   ],
   "source": [
    "conjunto.difference(conjunto_2) # o que eles tem de diferente"
   ]
  },
  {
   "cell_type": "code",
   "execution_count": 45,
   "id": "fd5cb059",
   "metadata": {},
   "outputs": [
    {
     "data": {
      "text/plain": [
       "100"
      ]
     },
     "execution_count": 45,
     "metadata": {},
     "output_type": "execute_result"
    }
   ],
   "source": [
    "dicionario = {'a': 100, 'b': 200, 'c': 300}\n",
    "dicionario['a']"
   ]
  },
  {
   "cell_type": "code",
   "execution_count": 46,
   "id": "21db993e",
   "metadata": {},
   "outputs": [
    {
     "data": {
      "text/plain": [
       "dict"
      ]
     },
     "execution_count": 46,
     "metadata": {},
     "output_type": "execute_result"
    }
   ],
   "source": [
    "type(dicionario)"
   ]
  },
  {
   "cell_type": "code",
   "execution_count": 47,
   "id": "c3eba031",
   "metadata": {},
   "outputs": [
    {
     "data": {
      "text/plain": [
       "3"
      ]
     },
     "execution_count": 47,
     "metadata": {},
     "output_type": "execute_result"
    }
   ],
   "source": [
    "len(dicionario)"
   ]
  },
  {
   "cell_type": "code",
   "execution_count": 48,
   "id": "ea579af3",
   "metadata": {},
   "outputs": [
    {
     "data": {
      "text/plain": [
       "dict_items([('a', 100), ('b', 200), ('c', 300)])"
      ]
     },
     "execution_count": 48,
     "metadata": {},
     "output_type": "execute_result"
    }
   ],
   "source": [
    "dicionario.items() # retorna as chaves e valores em formato de tupla"
   ]
  },
  {
   "cell_type": "code",
   "execution_count": 49,
   "id": "ed58652d",
   "metadata": {},
   "outputs": [
    {
     "data": {
      "text/plain": [
       "dict_keys(['a', 'b', 'c'])"
      ]
     },
     "execution_count": 49,
     "metadata": {},
     "output_type": "execute_result"
    }
   ],
   "source": [
    "dicionario.keys()"
   ]
  },
  {
   "cell_type": "code",
   "execution_count": 50,
   "id": "bed05079",
   "metadata": {},
   "outputs": [
    {
     "data": {
      "text/plain": [
       "dict_values([100, 200, 300])"
      ]
     },
     "execution_count": 50,
     "metadata": {},
     "output_type": "execute_result"
    }
   ],
   "source": [
    "dicionario.values()"
   ]
  },
  {
   "cell_type": "code",
   "execution_count": 53,
   "id": "49d56cf1",
   "metadata": {},
   "outputs": [],
   "source": [
    "dicionario['d'] = 800"
   ]
  },
  {
   "cell_type": "code",
   "execution_count": 54,
   "id": "4e590cd3",
   "metadata": {},
   "outputs": [
    {
     "data": {
      "text/plain": [
       "{'a': 100, 'b': 200, 'c': 300, 'd': 800}"
      ]
     },
     "execution_count": 54,
     "metadata": {},
     "output_type": "execute_result"
    }
   ],
   "source": [
    "dicionario"
   ]
  },
  {
   "cell_type": "code",
   "execution_count": 55,
   "id": "a50b3bd7",
   "metadata": {},
   "outputs": [
    {
     "name": "stdout",
     "output_type": "stream",
     "text": [
      "OK\n"
     ]
    }
   ],
   "source": [
    "if 'a' in dicionario:\n",
    "    print('OK')"
   ]
  },
  {
   "cell_type": "code",
   "execution_count": 58,
   "id": "f9a388c2",
   "metadata": {},
   "outputs": [
    {
     "data": {
      "text/plain": [
       "0"
      ]
     },
     "execution_count": 58,
     "metadata": {},
     "output_type": "execute_result"
    }
   ],
   "source": [
    "dicionario.get('z', 0)"
   ]
  },
  {
   "cell_type": "code",
   "execution_count": 59,
   "id": "be757373",
   "metadata": {},
   "outputs": [
    {
     "data": {
      "text/plain": [
       "100"
      ]
     },
     "execution_count": 59,
     "metadata": {},
     "output_type": "execute_result"
    }
   ],
   "source": [
    "dicionario.get('a', 0)"
   ]
  },
  {
   "cell_type": "code",
   "execution_count": 61,
   "id": "239685d1",
   "metadata": {},
   "outputs": [],
   "source": [
    "base_1 = { # lista dentro do dicionario\n",
    "    'nome': ['João', 'José', 'Maria'],\n",
    "    'idade': [30, 23, 18],\n",
    "    'estado civil': ['casado', 'solteiro', 'solteiro']\n",
    "}"
   ]
  },
  {
   "cell_type": "code",
   "execution_count": 70,
   "id": "f33c47ce",
   "metadata": {},
   "outputs": [],
   "source": [
    "base_2 = [ # dicionario dentro de lista\n",
    "    {'nome': 'João', 'idade': 30, 'estado_civil': 'casado'},\n",
    "    {'nome': 'José', 'idade': 23, 'estado_civil': 'solteiro'},\n",
    "    {'nome': 'Maria', 'idade': 18, 'estado_civil': 'solteiro'}\n",
    "]"
   ]
  },
  {
   "cell_type": "code",
   "execution_count": 66,
   "id": "cca8ad40",
   "metadata": {},
   "outputs": [
    {
     "data": {
      "text/plain": [
       "'J'"
      ]
     },
     "execution_count": 66,
     "metadata": {},
     "output_type": "execute_result"
    }
   ],
   "source": [
    "base_1['nome'][0][0] # não é recomendado"
   ]
  },
  {
   "cell_type": "code",
   "execution_count": 75,
   "id": "87f32827",
   "metadata": {},
   "outputs": [
    {
     "data": {
      "text/plain": [
       "'SOLTEIRO'"
      ]
     },
     "execution_count": 75,
     "metadata": {},
     "output_type": "execute_result"
    }
   ],
   "source": [
    "base_2[-1]['estado_civil'].upper()"
   ]
  },
  {
   "cell_type": "code",
   "execution_count": 77,
   "id": "bbed34d5",
   "metadata": {},
   "outputs": [],
   "source": [
    "matriz = [\n",
    "    [1, 2, 3],\n",
    "    [4, 5, 6],\n",
    "    [7, 8, 9]\n",
    "]"
   ]
  },
  {
   "cell_type": "code",
   "execution_count": 78,
   "id": "a25d13d0",
   "metadata": {},
   "outputs": [
    {
     "data": {
      "text/plain": [
       "5"
      ]
     },
     "execution_count": 78,
     "metadata": {},
     "output_type": "execute_result"
    }
   ],
   "source": [
    "matriz[1][1]"
   ]
  },
  {
   "cell_type": "code",
   "execution_count": 80,
   "id": "b7b9d821",
   "metadata": {},
   "outputs": [
    {
     "ename": "SyntaxError",
     "evalue": "invalid syntax. Perhaps you forgot a comma? (182055692.py, line 8)",
     "output_type": "error",
     "traceback": [
      "\u001b[1;36m  Cell \u001b[1;32mIn[80], line 8\u001b[1;36m\u001b[0m\n\u001b[1;33m    {'nome': 'hij', 'valor': 2300..99, 'peso': 60.2}\u001b[0m\n\u001b[1;37m                             ^\u001b[0m\n\u001b[1;31mSyntaxError\u001b[0m\u001b[1;31m:\u001b[0m invalid syntax. Perhaps you forgot a comma?\n"
     ]
    }
   ],
   "source": [
    "nota_fiscal = {\n",
    "    'numero_serie': 1271526751,\n",
    "    'data': '10/01/2024',\n",
    "    'fornecedor': 'XXXXXX',\n",
    "    'itens': [\n",
    "        {'nome': 'abc', 'valor': 300, 'peso': 20},\n",
    "        {'nome': 'def', 'valor': 30, 'peso': 30},\n",
    "        {'nome': 'hij', 'valor': 2300.99, 'peso': 60.2}\n",
    "    ]\n",
    "}"
   ]
  },
  {
   "cell_type": "code",
   "execution_count": null,
   "id": "960a23b9",
   "metadata": {},
   "outputs": [],
   "source": []
  },
  {
   "cell_type": "code",
   "execution_count": null,
   "id": "58f717a7",
   "metadata": {},
   "outputs": [],
   "source": []
  },
  {
   "cell_type": "code",
   "execution_count": null,
   "id": "125de24d",
   "metadata": {},
   "outputs": [],
   "source": []
  },
  {
   "cell_type": "code",
   "execution_count": null,
   "id": "70a8929a",
   "metadata": {},
   "outputs": [],
   "source": []
  },
  {
   "cell_type": "code",
   "execution_count": null,
   "id": "e86919c1",
   "metadata": {},
   "outputs": [],
   "source": []
  }
 ],
 "metadata": {
  "kernelspec": {
   "display_name": "Python 3 (ipykernel)",
   "language": "python",
   "name": "python3"
  },
  "language_info": {
   "codemirror_mode": {
    "name": "ipython",
    "version": 3
   },
   "file_extension": ".py",
   "mimetype": "text/x-python",
   "name": "python",
   "nbconvert_exporter": "python",
   "pygments_lexer": "ipython3",
   "version": "3.11.4"
  }
 },
 "nbformat": 4,
 "nbformat_minor": 5
}
