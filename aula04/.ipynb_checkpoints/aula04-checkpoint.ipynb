{
 "cells": [
  {
   "cell_type": "markdown",
   "id": "489c453a",
   "metadata": {},
   "source": [
    "## Nome\n",
    "## Idade\n",
    "## Peso\n",
    "## Altura\n",
    "## Usuário Python\n",
    "## Endereço\n",
    "## PCD\n",
    "## Data de Nascimento"
   ]
  },
  {
   "cell_type": "code",
   "execution_count": 37,
   "id": "4952fefb",
   "metadata": {},
   "outputs": [],
   "source": [
    "nome = \"Antonio\"\n",
    "idade = 25\n",
    "peso = 75.5\n",
    "altura = 1.80\n",
    "usuario_python = True\n",
    "endereco = \"Avenida Paulista, 1313\"\n",
    "pcd = False\n",
    "# data_de_nascimento\n",
    "dia_de_nascimento = 15\n",
    "mes_de_nascimento = 10\n",
    "ano_de_nascimento = 2000"
   ]
  },
  {
   "cell_type": "code",
   "execution_count": 36,
   "id": "dc418d9d",
   "metadata": {},
   "outputs": [
    {
     "data": {
      "text/plain": [
       "(str, int, float, float, bool, str, bool, int)"
      ]
     },
     "execution_count": 36,
     "metadata": {},
     "output_type": "execute_result"
    }
   ],
   "source": [
    "type(nome), type(idade), type(peso), type(altura), type(usuario_python), type(endereco), type(pcd), type(idade)"
   ]
  },
  {
   "cell_type": "code",
   "execution_count": 20,
   "id": "641a2411",
   "metadata": {},
   "outputs": [
    {
     "name": "stdout",
     "output_type": "stream",
     "text": [
      "Antonio\n",
      "25\n",
      "75\n",
      "1.8\n",
      "antonio_python\n",
      "Avenida Paulista\n",
      "False\n",
      "10/10/2000\n"
     ]
    }
   ],
   "source": [
    "print(nome)\n",
    "print(idade)\n",
    "print(peso)\n",
    "print(altura)\n",
    "print(usuario_python)\n",
    "print(endereco)\n",
    "print(pcd)\n",
    "print(dia_de_nascimento)\n",
    "print(mes_de_nascimento)\n",
    "print(ano_de_nascimento)"
   ]
  }
 ],
 "metadata": {
  "kernelspec": {
   "display_name": "Python 3 (ipykernel)",
   "language": "python",
   "name": "python3"
  },
  "language_info": {
   "codemirror_mode": {
    "name": "ipython",
    "version": 3
   },
   "file_extension": ".py",
   "mimetype": "text/x-python",
   "name": "python",
   "nbconvert_exporter": "python",
   "pygments_lexer": "ipython3",
   "version": "3.11.4"
  }
 },
 "nbformat": 4,
 "nbformat_minor": 5
}
