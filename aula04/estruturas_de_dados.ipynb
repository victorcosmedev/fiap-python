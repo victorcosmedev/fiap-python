{
 "cells": [
  {
   "cell_type": "markdown",
   "id": "c0f5c9dd",
   "metadata": {},
   "source": [
    "# Estruturas de dados\n",
    "\n",
    "- Listas\n",
    "- Tuplas\n",
    "- Conjuntos\n",
    "- Dicionários"
   ]
  },
  {
   "cell_type": "code",
   "execution_count": 2,
   "id": "76ca26e9",
   "metadata": {},
   "outputs": [
    {
     "data": {
      "text/plain": [
       "(True, False)"
      ]
     },
     "execution_count": 2,
     "metadata": {},
     "output_type": "execute_result"
    }
   ],
   "source": [
    "'v' in 'victor', 'x' in 'victor'"
   ]
  },
  {
   "cell_type": "code",
   "execution_count": 3,
   "id": "71f470bb",
   "metadata": {},
   "outputs": [],
   "source": [
    "lista = [1, 2, 3]"
   ]
  },
  {
   "cell_type": "code",
   "execution_count": 4,
   "id": "0e22a7c0",
   "metadata": {},
   "outputs": [
    {
     "data": {
      "text/plain": [
       "list"
      ]
     },
     "execution_count": 4,
     "metadata": {},
     "output_type": "execute_result"
    }
   ],
   "source": [
    "type(lista)"
   ]
  },
  {
   "cell_type": "code",
   "execution_count": 10,
   "id": "fc61f66d",
   "metadata": {},
   "outputs": [],
   "source": [
    "lista_2 = [1, 'a', 3.14]"
   ]
  },
  {
   "cell_type": "code",
   "execution_count": 9,
   "id": "2b7c9912",
   "metadata": {},
   "outputs": [
    {
     "data": {
      "text/plain": [
       "'a'"
      ]
     },
     "execution_count": 9,
     "metadata": {},
     "output_type": "execute_result"
    }
   ],
   "source": [
    "lista_2[1]"
   ]
  },
  {
   "cell_type": "code",
   "execution_count": 13,
   "id": "b6c6f4c9",
   "metadata": {},
   "outputs": [],
   "source": [
    "lista_2[-1] = 3"
   ]
  },
  {
   "cell_type": "code",
   "execution_count": 14,
   "id": "baea4f49",
   "metadata": {},
   "outputs": [
    {
     "data": {
      "text/plain": [
       "[1, 'a', 3]"
      ]
     },
     "execution_count": 14,
     "metadata": {},
     "output_type": "execute_result"
    }
   ],
   "source": [
    "lista_2"
   ]
  },
  {
   "cell_type": "code",
   "execution_count": 16,
   "id": "3865afa3",
   "metadata": {},
   "outputs": [],
   "source": [
    "lista_2.append(True) # adiciona um item na lista"
   ]
  },
  {
   "cell_type": "code",
   "execution_count": 17,
   "id": "7157862c",
   "metadata": {},
   "outputs": [
    {
     "data": {
      "text/plain": [
       "[1, 'a', 3, True, True]"
      ]
     },
     "execution_count": 17,
     "metadata": {},
     "output_type": "execute_result"
    }
   ],
   "source": [
    "lista_2"
   ]
  },
  {
   "cell_type": "code",
   "execution_count": 18,
   "id": "12e710bf",
   "metadata": {},
   "outputs": [
    {
     "data": {
      "text/plain": [
       "True"
      ]
     },
     "execution_count": 18,
     "metadata": {},
     "output_type": "execute_result"
    }
   ],
   "source": [
    "lista_2.pop() # remove por padrão o último item da lista e retorna o valor dele"
   ]
  },
  {
   "cell_type": "code",
   "execution_count": 19,
   "id": "3e8025ca",
   "metadata": {},
   "outputs": [
    {
     "data": {
      "text/plain": [
       "[1, 'a', 3, True]"
      ]
     },
     "execution_count": 19,
     "metadata": {},
     "output_type": "execute_result"
    }
   ],
   "source": [
    "lista_2"
   ]
  },
  {
   "cell_type": "code",
   "execution_count": 20,
   "id": "45dcbd3d",
   "metadata": {},
   "outputs": [
    {
     "data": {
      "text/plain": [
       "1"
      ]
     },
     "execution_count": 20,
     "metadata": {},
     "output_type": "execute_result"
    }
   ],
   "source": [
    "lista_2.pop(0) # remove o primeiro item da lista"
   ]
  },
  {
   "cell_type": "code",
   "execution_count": 21,
   "id": "aa9050c9",
   "metadata": {},
   "outputs": [
    {
     "data": {
      "text/plain": [
       "(['a', 3, True], 3)"
      ]
     },
     "execution_count": 21,
     "metadata": {},
     "output_type": "execute_result"
    }
   ],
   "source": [
    "lista_2, len(lista_2)"
   ]
  },
  {
   "cell_type": "code",
   "execution_count": 22,
   "id": "5d4d35b3",
   "metadata": {},
   "outputs": [
    {
     "data": {
      "text/plain": [
       "True"
      ]
     },
     "execution_count": 22,
     "metadata": {},
     "output_type": "execute_result"
    }
   ],
   "source": [
    "bool([1, 2, 3]) # se tiver algum conteudo, será verdadeiro, se não, será falso"
   ]
  },
  {
   "cell_type": "code",
   "execution_count": 23,
   "id": "58f078dd",
   "metadata": {},
   "outputs": [
    {
     "data": {
      "text/plain": [
       "False"
      ]
     },
     "execution_count": 23,
     "metadata": {},
     "output_type": "execute_result"
    }
   ],
   "source": [
    "bool([])"
   ]
  },
  {
   "cell_type": "code",
   "execution_count": 25,
   "id": "bac318d5",
   "metadata": {},
   "outputs": [
    {
     "name": "stdout",
     "output_type": "stream",
     "text": [
      "Conteúdo\n"
     ]
    }
   ],
   "source": [
    "if [1,1,1,1,1,1,1]: # se tem conteúdo, ele printará\n",
    "    print(\"Conteúdo\")\n",
    "else:\n",
    "    print(\"Vazio\")"
   ]
  },
  {
   "cell_type": "code",
   "execution_count": null,
   "id": "abbd1df2",
   "metadata": {},
   "outputs": [],
   "source": [
    "tupla = (1, 'a', 3.14)"
   ]
  },
  {
   "cell_type": "code",
   "execution_count": 26,
   "id": "fa8496ad",
   "metadata": {},
   "outputs": [],
   "source": [
    "copo_1 = 'café'\n",
    "copo_2 = 'água'"
   ]
  },
  {
   "cell_type": "code",
   "execution_count": 29,
   "id": "b8dfa354",
   "metadata": {},
   "outputs": [],
   "source": [
    "copo_1, copo_2 = copo_2, copo_1"
   ]
  },
  {
   "cell_type": "code",
   "execution_count": 30,
   "id": "3e8f52cd",
   "metadata": {},
   "outputs": [
    {
     "data": {
      "text/plain": [
       "('café', 'água')"
      ]
     },
     "execution_count": 30,
     "metadata": {},
     "output_type": "execute_result"
    }
   ],
   "source": [
    "copo_1, copo_2"
   ]
  },
  {
   "cell_type": "code",
   "execution_count": 35,
   "id": "59659f40",
   "metadata": {},
   "outputs": [],
   "source": [
    "conjunto = {1, 5, 4, 100, 8, 2, 8, 3, 1, 5}"
   ]
  },
  {
   "cell_type": "code",
   "execution_count": 36,
   "id": "9fd5e1f5",
   "metadata": {},
   "outputs": [
    {
     "data": {
      "text/plain": [
       "set"
      ]
     },
     "execution_count": 36,
     "metadata": {},
     "output_type": "execute_result"
    }
   ],
   "source": [
    "type(conjunto)"
   ]
  },
  {
   "cell_type": "code",
   "execution_count": 32,
   "id": "1c51fb50",
   "metadata": {},
   "outputs": [
    {
     "data": {
      "text/plain": [
       "{1, 2, 3, 4, 5, 8, 100}"
      ]
     },
     "execution_count": 32,
     "metadata": {},
     "output_type": "execute_result"
    }
   ],
   "source": [
    "conjunto"
   ]
  },
  {
   "cell_type": "code",
   "execution_count": 42,
   "id": "91ed549a",
   "metadata": {},
   "outputs": [],
   "source": [
    "conjunto_2 = {2, 4, 3000, 555}"
   ]
  },
  {
   "cell_type": "code",
   "execution_count": 43,
   "id": "73faf271",
   "metadata": {},
   "outputs": [
    {
     "data": {
      "text/plain": [
       "{2, 4}"
      ]
     },
     "execution_count": 43,
     "metadata": {},
     "output_type": "execute_result"
    }
   ],
   "source": [
    "conjunto.intersection(conjunto_2) # o que os sets tem em comum"
   ]
  },
  {
   "cell_type": "code",
   "execution_count": 44,
   "id": "36bdfd76",
   "metadata": {},
   "outputs": [
    {
     "data": {
      "text/plain": [
       "{1, 3, 5, 8, 100}"
      ]
     },
     "execution_count": 44,
     "metadata": {},
     "output_type": "execute_result"
    }
   ],
   "source": [
    "conjunto.difference(conjunto_2) # o que eles tem de diferente"
   ]
  },
  {
   "cell_type": "code",
   "execution_count": 45,
   "id": "a61098f9",
   "metadata": {},
   "outputs": [
    {
     "data": {
      "text/plain": [
       "100"
      ]
     },
     "execution_count": 45,
     "metadata": {},
     "output_type": "execute_result"
    }
   ],
   "source": [
    "dicionario = {'a': 100, 'b': 200, 'c': 300}\n",
    "dicionario['a']"
   ]
  },
  {
   "cell_type": "code",
   "execution_count": 46,
   "id": "eaf0df0a",
   "metadata": {},
   "outputs": [
    {
     "data": {
      "text/plain": [
       "dict"
      ]
     },
     "execution_count": 46,
     "metadata": {},
     "output_type": "execute_result"
    }
   ],
   "source": [
    "type(dicionario)"
   ]
  },
  {
   "cell_type": "code",
   "execution_count": 47,
   "id": "7a6e604e",
   "metadata": {},
   "outputs": [
    {
     "data": {
      "text/plain": [
       "3"
      ]
     },
     "execution_count": 47,
     "metadata": {},
     "output_type": "execute_result"
    }
   ],
   "source": [
    "len(dicionario)"
   ]
  },
  {
   "cell_type": "code",
   "execution_count": 48,
   "id": "78d8333d",
   "metadata": {},
   "outputs": [
    {
     "data": {
      "text/plain": [
       "dict_items([('a', 100), ('b', 200), ('c', 300)])"
      ]
     },
     "execution_count": 48,
     "metadata": {},
     "output_type": "execute_result"
    }
   ],
   "source": [
    "dicionario.items() # retorna as chaves e valores em formato de tupla"
   ]
  },
  {
   "cell_type": "code",
   "execution_count": 49,
   "id": "a8f61151",
   "metadata": {},
   "outputs": [
    {
     "data": {
      "text/plain": [
       "dict_keys(['a', 'b', 'c'])"
      ]
     },
     "execution_count": 49,
     "metadata": {},
     "output_type": "execute_result"
    }
   ],
   "source": [
    "dicionario.keys()"
   ]
  },
  {
   "cell_type": "code",
   "execution_count": 50,
   "id": "4c36e2b9",
   "metadata": {},
   "outputs": [
    {
     "data": {
      "text/plain": [
       "dict_values([100, 200, 300])"
      ]
     },
     "execution_count": 50,
     "metadata": {},
     "output_type": "execute_result"
    }
   ],
   "source": [
    "dicionario.values()"
   ]
  },
  {
   "cell_type": "code",
   "execution_count": 53,
   "id": "c38118d9",
   "metadata": {},
   "outputs": [],
   "source": [
    "dicionario['d'] = 800"
   ]
  },
  {
   "cell_type": "code",
   "execution_count": 54,
   "id": "b376800c",
   "metadata": {},
   "outputs": [
    {
     "data": {
      "text/plain": [
       "{'a': 100, 'b': 200, 'c': 300, 'd': 800}"
      ]
     },
     "execution_count": 54,
     "metadata": {},
     "output_type": "execute_result"
    }
   ],
   "source": [
    "dicionario"
   ]
  },
  {
   "cell_type": "code",
   "execution_count": 55,
   "id": "fe6d7169",
   "metadata": {},
   "outputs": [
    {
     "name": "stdout",
     "output_type": "stream",
     "text": [
      "OK\n"
     ]
    }
   ],
   "source": [
    "if 'a' in dicionario:\n",
    "    print('OK')"
   ]
  },
  {
   "cell_type": "code",
   "execution_count": 58,
   "id": "a557b1df",
   "metadata": {},
   "outputs": [
    {
     "data": {
      "text/plain": [
       "0"
      ]
     },
     "execution_count": 58,
     "metadata": {},
     "output_type": "execute_result"
    }
   ],
   "source": [
    "dicionario.get('z', 0)"
   ]
  },
  {
   "cell_type": "code",
   "execution_count": 59,
   "id": "9c2ac3ed",
   "metadata": {},
   "outputs": [
    {
     "data": {
      "text/plain": [
       "100"
      ]
     },
     "execution_count": 59,
     "metadata": {},
     "output_type": "execute_result"
    }
   ],
   "source": [
    "dicionario.get('a', 0)"
   ]
  },
  {
   "cell_type": "code",
   "execution_count": 61,
   "id": "6da186aa",
   "metadata": {},
   "outputs": [],
   "source": [
    "base_1 = { # lista dentro do dicionario\n",
    "    'nome': ['João', 'José', 'Maria'],\n",
    "    'idade': [30, 23, 18],\n",
    "    'estado civil': ['casado', 'solteiro', 'solteiro']\n",
    "}"
   ]
  },
  {
   "cell_type": "code",
   "execution_count": 70,
   "id": "27da8e9e",
   "metadata": {},
   "outputs": [],
   "source": [
    "base_2 = [ # dicionario dentro de lista\n",
    "    {'nome': 'João', 'idade': 30, 'estado_civil': 'casado'},\n",
    "    {'nome': 'José', 'idade': 23, 'estado_civil': 'solteiro'},\n",
    "    {'nome': 'Maria', 'idade': 18, 'estado_civil': 'solteiro'}\n",
    "]"
   ]
  },
  {
   "cell_type": "code",
   "execution_count": 66,
   "id": "f1b7ae55",
   "metadata": {},
   "outputs": [
    {
     "data": {
      "text/plain": [
       "'J'"
      ]
     },
     "execution_count": 66,
     "metadata": {},
     "output_type": "execute_result"
    }
   ],
   "source": [
    "base_1['nome'][0][0] # não é recomendado"
   ]
  },
  {
   "cell_type": "code",
   "execution_count": 75,
   "id": "0526a632",
   "metadata": {},
   "outputs": [
    {
     "data": {
      "text/plain": [
       "'SOLTEIRO'"
      ]
     },
     "execution_count": 75,
     "metadata": {},
     "output_type": "execute_result"
    }
   ],
   "source": [
    "base_2[-1]['estado_civil'].upper()"
   ]
  },
  {
   "cell_type": "code",
   "execution_count": 77,
   "id": "d5e9e9bf",
   "metadata": {},
   "outputs": [],
   "source": [
    "matriz = [\n",
    "    [1, 2, 3],\n",
    "    [4, 5, 6],\n",
    "    [7, 8, 9]\n",
    "]"
   ]
  },
  {
   "cell_type": "code",
   "execution_count": 78,
   "id": "4f783a67",
   "metadata": {},
   "outputs": [
    {
     "data": {
      "text/plain": [
       "5"
      ]
     },
     "execution_count": 78,
     "metadata": {},
     "output_type": "execute_result"
    }
   ],
   "source": [
    "matriz[1][1]"
   ]
  },
  {
   "cell_type": "code",
   "execution_count": 81,
   "id": "b0dfa51e",
   "metadata": {},
   "outputs": [],
   "source": [
    "nota_fiscal = {\n",
    "    'numero_serie': 1271526751,\n",
    "    'data': '10/01/2024',\n",
    "    'fornecedor': 'XXXXXX',\n",
    "    'valor_total': 2950.0,\n",
    "    'itens': [\n",
    "        {'nome': 'abc', 'valor': 300, 'peso': 20},\n",
    "        {'nome': 'def', 'valor': 30, 'peso': 30},\n",
    "        {'nome': 'hij', 'valor': 2300.99, 'peso': 60.2}\n",
    "    ]\n",
    "}"
   ]
  },
  {
   "cell_type": "code",
   "execution_count": 84,
   "id": "78d6ed4b",
   "metadata": {},
   "outputs": [
    {
     "data": {
      "text/plain": [
       "2630.99"
      ]
     },
     "execution_count": 84,
     "metadata": {},
     "output_type": "execute_result"
    }
   ],
   "source": [
    "valor_soma = 0\n",
    "\n",
    "for item in nota_fiscal['itens']:\n",
    "    valor_soma += item['valor']\n",
    "\n",
    "valor_soma"
   ]
  },
  {
   "cell_type": "code",
   "execution_count": null,
   "id": "ebec6209",
   "metadata": {},
   "outputs": [],
   "source": []
  },
  {
   "cell_type": "code",
   "execution_count": null,
   "id": "2d0b7d8e",
   "metadata": {},
   "outputs": [],
   "source": []
  },
  {
   "cell_type": "code",
   "execution_count": null,
   "id": "ffac3154",
   "metadata": {},
   "outputs": [],
   "source": []
  },
  {
   "cell_type": "code",
   "execution_count": null,
   "id": "3edd99d8",
   "metadata": {},
   "outputs": [],
   "source": []
  },
  {
   "cell_type": "code",
   "execution_count": null,
   "id": "d8ea5bb2",
   "metadata": {},
   "outputs": [],
   "source": []
  },
  {
   "cell_type": "code",
   "execution_count": null,
   "id": "1e0ea17d",
   "metadata": {},
   "outputs": [],
   "source": []
  },
  {
   "cell_type": "code",
   "execution_count": null,
   "id": "c3af6b60",
   "metadata": {},
   "outputs": [],
   "source": []
  }
 ],
 "metadata": {
  "kernelspec": {
   "display_name": "Python 3 (ipykernel)",
   "language": "python",
   "name": "python3"
  },
  "language_info": {
   "codemirror_mode": {
    "name": "ipython",
    "version": 3
   },
   "file_extension": ".py",
   "mimetype": "text/x-python",
   "name": "python",
   "nbconvert_exporter": "python",
   "pygments_lexer": "ipython3",
   "version": "3.11.4"
  }
 },
 "nbformat": 4,
 "nbformat_minor": 5
}
