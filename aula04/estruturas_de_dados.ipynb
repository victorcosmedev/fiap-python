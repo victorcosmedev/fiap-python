{
 "cells": [
  {
   "cell_type": "markdown",
   "id": "5b443c1c",
   "metadata": {},
   "source": [
    "# Estruturas de dados\n",
    "\n",
    "- Listas\n",
    "- Tuplas\n",
    "- Conjuntos\n",
    "- Dicionários"
   ]
  },
  {
   "cell_type": "code",
   "execution_count": 2,
   "id": "18d8693c",
   "metadata": {},
   "outputs": [
    {
     "data": {
      "text/plain": [
       "(True, False)"
      ]
     },
     "execution_count": 2,
     "metadata": {},
     "output_type": "execute_result"
    }
   ],
   "source": [
    "'v' in 'victor', 'x' in 'victor'"
   ]
  },
  {
   "cell_type": "code",
   "execution_count": 3,
   "id": "ecfb8d11",
   "metadata": {},
   "outputs": [],
   "source": [
    "lista = [1, 2, 3]"
   ]
  },
  {
   "cell_type": "code",
   "execution_count": 4,
   "id": "89786b4a",
   "metadata": {},
   "outputs": [
    {
     "data": {
      "text/plain": [
       "list"
      ]
     },
     "execution_count": 4,
     "metadata": {},
     "output_type": "execute_result"
    }
   ],
   "source": [
    "type(lista)"
   ]
  },
  {
   "cell_type": "code",
   "execution_count": 10,
   "id": "ed78a970",
   "metadata": {},
   "outputs": [],
   "source": [
    "lista_2 = [1, 'a', 3.14]"
   ]
  },
  {
   "cell_type": "code",
   "execution_count": 9,
   "id": "d91915fb",
   "metadata": {},
   "outputs": [
    {
     "data": {
      "text/plain": [
       "'a'"
      ]
     },
     "execution_count": 9,
     "metadata": {},
     "output_type": "execute_result"
    }
   ],
   "source": [
    "lista_2[1]"
   ]
  },
  {
   "cell_type": "code",
   "execution_count": 13,
   "id": "cfa683b6",
   "metadata": {},
   "outputs": [],
   "source": [
    "lista_2[-1] = 3"
   ]
  },
  {
   "cell_type": "code",
   "execution_count": 14,
   "id": "dd00ca28",
   "metadata": {},
   "outputs": [
    {
     "data": {
      "text/plain": [
       "[1, 'a', 3]"
      ]
     },
     "execution_count": 14,
     "metadata": {},
     "output_type": "execute_result"
    }
   ],
   "source": [
    "lista_2"
   ]
  },
  {
   "cell_type": "code",
   "execution_count": 16,
   "id": "37153007",
   "metadata": {},
   "outputs": [],
   "source": [
    "lista_2.append(True) # adiciona um item na lista"
   ]
  },
  {
   "cell_type": "code",
   "execution_count": 17,
   "id": "6403f9ed",
   "metadata": {},
   "outputs": [
    {
     "data": {
      "text/plain": [
       "[1, 'a', 3, True, True]"
      ]
     },
     "execution_count": 17,
     "metadata": {},
     "output_type": "execute_result"
    }
   ],
   "source": [
    "lista_2"
   ]
  },
  {
   "cell_type": "code",
   "execution_count": 18,
   "id": "f6fe3cad",
   "metadata": {},
   "outputs": [
    {
     "data": {
      "text/plain": [
       "True"
      ]
     },
     "execution_count": 18,
     "metadata": {},
     "output_type": "execute_result"
    }
   ],
   "source": [
    "lista_2.pop() # remove por padrão o último item da lista e retorna o valor dele"
   ]
  },
  {
   "cell_type": "code",
   "execution_count": 19,
   "id": "e0e432a9",
   "metadata": {},
   "outputs": [
    {
     "data": {
      "text/plain": [
       "[1, 'a', 3, True]"
      ]
     },
     "execution_count": 19,
     "metadata": {},
     "output_type": "execute_result"
    }
   ],
   "source": [
    "lista_2"
   ]
  },
  {
   "cell_type": "code",
   "execution_count": 20,
   "id": "4debc1d6",
   "metadata": {},
   "outputs": [
    {
     "data": {
      "text/plain": [
       "1"
      ]
     },
     "execution_count": 20,
     "metadata": {},
     "output_type": "execute_result"
    }
   ],
   "source": [
    "lista_2.pop(0) # remove o primeiro item da lista"
   ]
  },
  {
   "cell_type": "code",
   "execution_count": 21,
   "id": "5bda5a33",
   "metadata": {},
   "outputs": [
    {
     "data": {
      "text/plain": [
       "(['a', 3, True], 3)"
      ]
     },
     "execution_count": 21,
     "metadata": {},
     "output_type": "execute_result"
    }
   ],
   "source": [
    "lista_2, len(lista_2)"
   ]
  },
  {
   "cell_type": "code",
   "execution_count": 22,
   "id": "e84aa520",
   "metadata": {},
   "outputs": [
    {
     "data": {
      "text/plain": [
       "True"
      ]
     },
     "execution_count": 22,
     "metadata": {},
     "output_type": "execute_result"
    }
   ],
   "source": [
    "bool([1, 2, 3]) # se tiver algum conteudo, será verdadeiro, se não, será falso"
   ]
  },
  {
   "cell_type": "code",
   "execution_count": 23,
   "id": "6f2ada31",
   "metadata": {},
   "outputs": [
    {
     "data": {
      "text/plain": [
       "False"
      ]
     },
     "execution_count": 23,
     "metadata": {},
     "output_type": "execute_result"
    }
   ],
   "source": [
    "bool([])"
   ]
  },
  {
   "cell_type": "code",
   "execution_count": 25,
   "id": "9ddf1016",
   "metadata": {},
   "outputs": [
    {
     "name": "stdout",
     "output_type": "stream",
     "text": [
      "Conteúdo\n"
     ]
    }
   ],
   "source": [
    "if [1,1,1,1,1,1,1]: # se tem conteúdo, ele printará\n",
    "    print(\"Conteúdo\")\n",
    "else:\n",
    "    print(\"Vazio\")"
   ]
  },
  {
   "cell_type": "code",
   "execution_count": null,
   "id": "34faf38a",
   "metadata": {},
   "outputs": [],
   "source": [
    "tupla = (1, 'a', 3.14)"
   ]
  },
  {
   "cell_type": "code",
   "execution_count": 26,
   "id": "7a45ece3",
   "metadata": {},
   "outputs": [],
   "source": [
    "copo_1 = 'café'\n",
    "copo_2 = 'água'"
   ]
  },
  {
   "cell_type": "code",
   "execution_count": 29,
   "id": "2c584d53",
   "metadata": {},
   "outputs": [],
   "source": [
    "copo_1, copo_2 = copo_2, copo_1"
   ]
  },
  {
   "cell_type": "code",
   "execution_count": 30,
   "id": "c0fa772b",
   "metadata": {},
   "outputs": [
    {
     "data": {
      "text/plain": [
       "('café', 'água')"
      ]
     },
     "execution_count": 30,
     "metadata": {},
     "output_type": "execute_result"
    }
   ],
   "source": [
    "copo_1, copo_2"
   ]
  },
  {
   "cell_type": "code",
   "execution_count": 35,
   "id": "77c8f844",
   "metadata": {},
   "outputs": [],
   "source": [
    "conjunto = {1, 5, 4, 100, 8, 2, 8, 3, 1, 5}"
   ]
  },
  {
   "cell_type": "code",
   "execution_count": 36,
   "id": "60fe2ace",
   "metadata": {},
   "outputs": [
    {
     "data": {
      "text/plain": [
       "set"
      ]
     },
     "execution_count": 36,
     "metadata": {},
     "output_type": "execute_result"
    }
   ],
   "source": [
    "type(conjunto)"
   ]
  },
  {
   "cell_type": "code",
   "execution_count": 32,
   "id": "e19e0d53",
   "metadata": {},
   "outputs": [
    {
     "data": {
      "text/plain": [
       "{1, 2, 3, 4, 5, 8, 100}"
      ]
     },
     "execution_count": 32,
     "metadata": {},
     "output_type": "execute_result"
    }
   ],
   "source": [
    "conjunto"
   ]
  },
  {
   "cell_type": "code",
   "execution_count": 42,
   "id": "c219ee82",
   "metadata": {},
   "outputs": [],
   "source": [
    "conjunto_2 = {2, 4, 3000, 555}"
   ]
  },
  {
   "cell_type": "code",
   "execution_count": 43,
   "id": "4cfa6754",
   "metadata": {},
   "outputs": [
    {
     "data": {
      "text/plain": [
       "{2, 4}"
      ]
     },
     "execution_count": 43,
     "metadata": {},
     "output_type": "execute_result"
    }
   ],
   "source": [
    "conjunto.intersection(conjunto_2) # o que os sets tem em comum"
   ]
  },
  {
   "cell_type": "code",
   "execution_count": 44,
   "id": "9fe7ab6b",
   "metadata": {},
   "outputs": [
    {
     "data": {
      "text/plain": [
       "{1, 3, 5, 8, 100}"
      ]
     },
     "execution_count": 44,
     "metadata": {},
     "output_type": "execute_result"
    }
   ],
   "source": [
    "conjunto.difference(conjunto_2) # o que eles tem de diferente"
   ]
  },
  {
   "cell_type": "code",
   "execution_count": 45,
   "id": "a541eb8d",
   "metadata": {},
   "outputs": [
    {
     "data": {
      "text/plain": [
       "100"
      ]
     },
     "execution_count": 45,
     "metadata": {},
     "output_type": "execute_result"
    }
   ],
   "source": [
    "dicionario = {'a': 100, 'b': 200, 'c': 300}\n",
    "dicionario['a']"
   ]
  },
  {
   "cell_type": "code",
   "execution_count": 46,
   "id": "961380f4",
   "metadata": {},
   "outputs": [
    {
     "data": {
      "text/plain": [
       "dict"
      ]
     },
     "execution_count": 46,
     "metadata": {},
     "output_type": "execute_result"
    }
   ],
   "source": [
    "type(dicionario)"
   ]
  },
  {
   "cell_type": "code",
   "execution_count": 47,
   "id": "d94614fe",
   "metadata": {},
   "outputs": [
    {
     "data": {
      "text/plain": [
       "3"
      ]
     },
     "execution_count": 47,
     "metadata": {},
     "output_type": "execute_result"
    }
   ],
   "source": [
    "len(dicionario)"
   ]
  },
  {
   "cell_type": "code",
   "execution_count": 48,
   "id": "f0747132",
   "metadata": {},
   "outputs": [
    {
     "data": {
      "text/plain": [
       "dict_items([('a', 100), ('b', 200), ('c', 300)])"
      ]
     },
     "execution_count": 48,
     "metadata": {},
     "output_type": "execute_result"
    }
   ],
   "source": [
    "dicionario.items() # retorna as chaves e valores em formato de tupla"
   ]
  },
  {
   "cell_type": "code",
   "execution_count": 49,
   "id": "b06cc68a",
   "metadata": {},
   "outputs": [
    {
     "data": {
      "text/plain": [
       "dict_keys(['a', 'b', 'c'])"
      ]
     },
     "execution_count": 49,
     "metadata": {},
     "output_type": "execute_result"
    }
   ],
   "source": [
    "dicionario.keys()"
   ]
  },
  {
   "cell_type": "code",
   "execution_count": 50,
   "id": "264deb1f",
   "metadata": {},
   "outputs": [
    {
     "data": {
      "text/plain": [
       "dict_values([100, 200, 300])"
      ]
     },
     "execution_count": 50,
     "metadata": {},
     "output_type": "execute_result"
    }
   ],
   "source": [
    "dicionario.values()"
   ]
  },
  {
   "cell_type": "code",
   "execution_count": 53,
   "id": "a4744adb",
   "metadata": {},
   "outputs": [],
   "source": [
    "dicionario['d'] = 800"
   ]
  },
  {
   "cell_type": "code",
   "execution_count": 54,
   "id": "a5c28eca",
   "metadata": {},
   "outputs": [
    {
     "data": {
      "text/plain": [
       "{'a': 100, 'b': 200, 'c': 300, 'd': 800}"
      ]
     },
     "execution_count": 54,
     "metadata": {},
     "output_type": "execute_result"
    }
   ],
   "source": [
    "dicionario"
   ]
  },
  {
   "cell_type": "code",
   "execution_count": 55,
   "id": "bbfef85e",
   "metadata": {},
   "outputs": [
    {
     "name": "stdout",
     "output_type": "stream",
     "text": [
      "OK\n"
     ]
    }
   ],
   "source": [
    "if 'a' in dicionario:\n",
    "    print('OK')"
   ]
  },
  {
   "cell_type": "code",
   "execution_count": 58,
   "id": "a7d0a7d3",
   "metadata": {},
   "outputs": [
    {
     "data": {
      "text/plain": [
       "0"
      ]
     },
     "execution_count": 58,
     "metadata": {},
     "output_type": "execute_result"
    }
   ],
   "source": [
    "dicionario.get('z', 0)"
   ]
  },
  {
   "cell_type": "code",
   "execution_count": 59,
   "id": "98a436fe",
   "metadata": {},
   "outputs": [
    {
     "data": {
      "text/plain": [
       "100"
      ]
     },
     "execution_count": 59,
     "metadata": {},
     "output_type": "execute_result"
    }
   ],
   "source": [
    "dicionario.get('a', 0)"
   ]
  },
  {
   "cell_type": "code",
   "execution_count": 61,
   "id": "75a56e04",
   "metadata": {},
   "outputs": [],
   "source": [
    "base_1 = { # lista dentro do dicionario\n",
    "    'nome': ['João', 'José', 'Maria'],\n",
    "    'idade': [30, 23, 18],\n",
    "    'estado civil': ['casado', 'solteiro', 'solteiro']\n",
    "}"
   ]
  },
  {
   "cell_type": "code",
   "execution_count": 70,
   "id": "b94a1db9",
   "metadata": {},
   "outputs": [],
   "source": [
    "base_2 = [ # dicionario dentro de lista\n",
    "    {'nome': 'João', 'idade': 30, 'estado_civil': 'casado'},\n",
    "    {'nome': 'José', 'idade': 23, 'estado_civil': 'solteiro'},\n",
    "    {'nome': 'Maria', 'idade': 18, 'estado_civil': 'solteiro'}\n",
    "]"
   ]
  },
  {
   "cell_type": "code",
   "execution_count": 66,
   "id": "05038f46",
   "metadata": {},
   "outputs": [
    {
     "data": {
      "text/plain": [
       "'J'"
      ]
     },
     "execution_count": 66,
     "metadata": {},
     "output_type": "execute_result"
    }
   ],
   "source": [
    "base_1['nome'][0][0] # não é recomendado"
   ]
  },
  {
   "cell_type": "code",
   "execution_count": 75,
   "id": "e9462bd1",
   "metadata": {},
   "outputs": [
    {
     "data": {
      "text/plain": [
       "'SOLTEIRO'"
      ]
     },
     "execution_count": 75,
     "metadata": {},
     "output_type": "execute_result"
    }
   ],
   "source": [
    "base_2[-1]['estado_civil'].upper()"
   ]
  },
  {
   "cell_type": "code",
   "execution_count": 77,
   "id": "d8efe5e3",
   "metadata": {},
   "outputs": [],
   "source": [
    "matriz = [\n",
    "    [1, 2, 3],\n",
    "    [4, 5, 6],\n",
    "    [7, 8, 9]\n",
    "]"
   ]
  },
  {
   "cell_type": "code",
   "execution_count": 78,
   "id": "7460f614",
   "metadata": {},
   "outputs": [
    {
     "data": {
      "text/plain": [
       "5"
      ]
     },
     "execution_count": 78,
     "metadata": {},
     "output_type": "execute_result"
    }
   ],
   "source": [
    "matriz[1][1]"
   ]
  },
  {
   "cell_type": "code",
   "execution_count": null,
   "id": "3f7f4dce",
   "metadata": {},
   "outputs": [],
   "source": []
  },
  {
   "cell_type": "code",
   "execution_count": null,
   "id": "7ce7b5c0",
   "metadata": {},
   "outputs": [],
   "source": []
  },
  {
   "cell_type": "code",
   "execution_count": null,
   "id": "06c4c1de",
   "metadata": {},
   "outputs": [],
   "source": []
  },
  {
   "cell_type": "code",
   "execution_count": null,
   "id": "441931cb",
   "metadata": {},
   "outputs": [],
   "source": []
  },
  {
   "cell_type": "code",
   "execution_count": null,
   "id": "dde8ba92",
   "metadata": {},
   "outputs": [],
   "source": []
  },
  {
   "cell_type": "code",
   "execution_count": null,
   "id": "4c465339",
   "metadata": {},
   "outputs": [],
   "source": []
  }
 ],
 "metadata": {
  "kernelspec": {
   "display_name": "Python 3 (ipykernel)",
   "language": "python",
   "name": "python3"
  },
  "language_info": {
   "codemirror_mode": {
    "name": "ipython",
    "version": 3
   },
   "file_extension": ".py",
   "mimetype": "text/x-python",
   "name": "python",
   "nbconvert_exporter": "python",
   "pygments_lexer": "ipython3",
   "version": "3.11.4"
  }
 },
 "nbformat": 4,
 "nbformat_minor": 5
}
